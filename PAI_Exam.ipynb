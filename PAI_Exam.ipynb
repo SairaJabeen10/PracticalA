{
  "nbformat": 4,
  "nbformat_minor": 0,
  "metadata": {
    "colab": {
      "provenance": []
    },
    "kernelspec": {
      "name": "python3",
      "display_name": "Python 3"
    },
    "language_info": {
      "name": "python"
    }
  },
  "cells": [
    {
      "cell_type": "markdown",
      "source": [
        "Name: Saira Jabeen\n",
        "Roll No: 23-AI-10\n",
        "Section: A2\n",
        "Practical : A"
      ],
      "metadata": {
        "id": "9-Ebda6NaZoH"
      }
    },
    {
      "cell_type": "code",
      "source": [
        "import pandas as pd\n",
        "import matplotlib.pyplot as plt\n",
        "\n",
        "df = pd.read_csv(\"mystery_data.csv\", header=None)\n",
        "print(df.head())\n",
        "\n",
        "# Rename the columns\n",
        "df.columns = [\"ID\", \"Math\", \"Gender\", \"Study hours\", \"Science\"]\n",
        "print(df.head())\n"
      ],
      "metadata": {
        "colab": {
          "base_uri": "https://localhost:8080/"
        },
        "id": "2c---iA-L0S1",
        "outputId": "e0d80b8d-84db-43ba-dc08-eaf5eb98cfc1"
      },
      "execution_count": 11,
      "outputs": [
        {
          "output_type": "stream",
          "name": "stdout",
          "text": [
            "     0   1  2     3   4\n",
            "0  101  40  M   5.6  45\n",
            "1  102  90  M  10.3  97\n",
            "2  103  84  F   7.7  98\n",
            "3  104  52  M  11.6  98\n",
            "4  105  43  F   8.4  47\n",
            "    ID  Math Gender  Study hours  Science\n",
            "0  101    40      M          5.6       45\n",
            "1  102    90      M         10.3       97\n",
            "2  103    84      F          7.7       98\n",
            "3  104    52      M         11.6       98\n",
            "4  105    43      F          8.4       47\n"
          ]
        }
      ]
    },
    {
      "cell_type": "markdown",
      "source": [
        "Part:A\n",
        "ID: First column contains unique numeric or alphanumeric values, representing student IDs.\n",
        "\n",
        "Math: Second column has numeric values (0–100 range) that resemble scores in Math.\n",
        "\n",
        "\n",
        "Gender: Third column contains categorical values like \"M\", \"F\", or \"Male\"/\"Female\", indicating gender.\n",
        "\n",
        "Study hours: Fourth column has decimal/floating-point numbers, which suggest number of hours spent studying.\n",
        "\n",
        "Science: Fifth column contains numeric test-like values, indicating Science subject marks.\n",
        "\n"
      ],
      "metadata": {
        "id": "Y9_zUzV0QOUp"
      }
    },
    {
      "cell_type": "markdown",
      "source": [
        "Part: B"
      ],
      "metadata": {
        "id": "qBc_ItelTtTA"
      }
    },
    {
      "cell_type": "code",
      "source": [
        "import pandas as pd\n",
        "# Remove any rows where study hours is missing or invalid\n",
        "df = df[pd.to_numeric(df[\"Study hours\"], errors='coerce').notnull()]\n",
        "df[\"Study hours\"] = pd.to_numeric(df[\"Study hours\"])\n",
        "\n",
        "# Create a new column that calculates total score\n",
        "df[\"Total Score\"] = df[\"Math\"] + df[\"Science\"]\n",
        "\n",
        "\n",
        "#Print top 5 students based on total score\n",
        "print(df.head())\n"
      ],
      "metadata": {
        "colab": {
          "base_uri": "https://localhost:8080/"
        },
        "id": "VjDU2jmfPGlZ",
        "outputId": "9f2b941a-3100-4bca-8aeb-92982e1392dc"
      },
      "execution_count": 14,
      "outputs": [
        {
          "output_type": "stream",
          "name": "stdout",
          "text": [
            "    ID  Math Gender  Study hours  Science  Total Score\n",
            "0  101    40      M          5.6       45           85\n",
            "1  102    90      M         10.3       97          187\n",
            "2  103    84      F          7.7       98          182\n",
            "3  104    52      M         11.6       98          150\n",
            "4  105    43      F          8.4       47           90\n"
          ]
        }
      ]
    },
    {
      "cell_type": "markdown",
      "source": [
        "Part: C"
      ],
      "metadata": {
        "id": "HDCOWKOnZgE9"
      }
    },
    {
      "cell_type": "code",
      "source": [
        "import pandas as pd\n",
        "from scipy.stats import ttest_1samp as stests\n",
        "\n",
        "df = pd.read_csv(\"mystery_data.csv\", header=None)\n",
        "df.columns = [\"ID\", \"Math\", \"Gender\", \"Study hours\", \"Science\"]\n",
        "\n",
        "df = df[pd.to_numeric(df[\"Study hours\"], errors='coerce').notnull()]\n",
        "df[\"Study hours\"] = pd.to_numeric(df[\"Study hours\"])\n",
        "\n",
        "high_study = df[df[\"Study hours\"] > 10]\n",
        "\n",
        "t_value, p_value = stests(high_study[\"Math\"], 70)\n",
        "p_value = p_value / 2\n",
        "\n",
        "print(\"T-Value:\", t_value)\n",
        "print(\"P-Value:\", p_value)\n",
        "\n",
        "if p_value < 0.05:\n",
        "    print(\"Students who study more than 10 hours score more than 70 in Math.\")\n",
        "else:\n",
        "    print(\"No proof that they score more than 70.\")\n"
      ],
      "metadata": {
        "colab": {
          "base_uri": "https://localhost:8080/"
        },
        "id": "X1fbqNdCYVOn",
        "outputId": "ae9423e1-1e8b-485f-b079-26df1c72910f"
      },
      "execution_count": 34,
      "outputs": [
        {
          "output_type": "stream",
          "name": "stdout",
          "text": [
            "T-Value: -1.0992432648833956\n",
            "P-Value: 0.13903747723288548\n",
            "No proof that they score more than 70.\n"
          ]
        }
      ]
    },
    {
      "cell_type": "code",
      "source": [
        "import matplotlib.pyplot as plt\n",
        "x=['Male','Female']\n",
        "y=[df[df['Gender']=='M']['Total Score'].mean(),df[df['Gender']=='F']['Total Score'].mean()]\n",
        "\n",
        "plt.bar(x, y, color=[\"blue\", \"Pink\"])\n",
        "\n",
        "plt.title(\"Average Total Score by Gender\")\n",
        "plt.xlabel(\"Gender\")\n",
        "plt.ylabel(\"Total Score\")\n",
        "plt.show()"
      ],
      "metadata": {
        "colab": {
          "base_uri": "https://localhost:8080/",
          "height": 472
        },
        "id": "-XXYIdI4NDAY",
        "outputId": "822adeff-db73-4753-ee95-5254e2b90f2d"
      },
      "execution_count": 29,
      "outputs": [
        {
          "output_type": "display_data",
          "data": {
            "text/plain": [
              "<Figure size 640x480 with 1 Axes>"
            ],
            "image/png": "[encoded data removed]"
          },
          "metadata": {}
        }
      ]
    }
  ]
}